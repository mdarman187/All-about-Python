{
  "nbformat": 4,
  "nbformat_minor": 0,
  "metadata": {
    "colab": {
      "name": "mdarman_GoldenProject.ipynb",
      "provenance": [],
      "collapsed_sections": [],
      "authorship_tag": "ABX9TyOX5mgLl2YE3WWrBNFgtoif"
    },
    "kernelspec": {
      "name": "python3",
      "display_name": "Python 3"
    }
  },
  "cells": [
    {
      "cell_type": "markdown",
      "metadata": {
        "id": "4_yX_G6bCsyZ",
        "colab_type": "text"
      },
      "source": [
        "# **Golden Project**\n",
        "\n",
        "Panda's Magical Words"
      ]
    },
    {
      "cell_type": "code",
      "metadata": {
        "id": "s_2rth3bCh65",
        "colab_type": "code",
        "colab": {
          "base_uri": "https://localhost:8080/",
          "height": 153
        },
        "outputId": "e8671850-01d8-4af4-a591-7a05b35ac9d7"
      },
      "source": [
        "T = int(input(\"enter number of inputs:\\n\"))\n",
        "for arman in range(T):\n",
        "    N = int(input(\"enter length of string:\\n\"))\n",
        "    wrd = input(\"enter string:\\n\")\n",
        "    wrd1 = ''\n",
        "    primeAlpha = {67, 71, 73, 79, 83, 89, 97, 101, 103, 107, 109, 113}\n",
        "    listPrimeAlpha = [67, 71, 73, 79, 83, 89, 97, 101, 103, 107, 109, 113]\n",
        "    for char in wrd:\n",
        "        ascii = ord(char)\n",
        "        if ascii in primeAlpha:\n",
        "            wrd1 += char\n",
        "        else:\n",
        "            if ascii > 113:\n",
        "                wrd1 += chr(113)\n",
        "                continue\n",
        "            listPrimeAlpha1 = listPrimeAlpha[:]\n",
        "            listPrimeAlpha1.append(ascii)\n",
        "            listPrimeAlpha1.sort()\n",
        "            i = listPrimeAlpha1.index(ascii)\n",
        "            b, a = listPrimeAlpha1[i-1], listPrimeAlpha1[i+1]\n",
        "            bd = abs(ascii - b)\n",
        "            ad = abs(a - ascii)\n",
        "            if bd < ad:\n",
        "                ascii = b\n",
        "            elif bd > ad:\n",
        "                ascii = a\n",
        "            else:\n",
        "                ascii = min(b, a)\n",
        "            wrd1 += chr(ascii)\n",
        "    print(\"Panda's Magical Word:\\n\",wrd1)"
      ],
      "execution_count": null,
      "outputs": [
        {
          "output_type": "stream",
          "text": [
            "enter number of inputs:\n",
            "1\n",
            "enter length of string:\n",
            "6\n",
            "enter string:\n",
            "AFREEN\n",
            "Panda's Magical Word:\n",
            " CGSCCO\n"
          ],
          "name": "stdout"
        }
      ]
    }
  ]
}