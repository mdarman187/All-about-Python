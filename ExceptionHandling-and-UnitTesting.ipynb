{
  "nbformat": 4,
  "nbformat_minor": 0,
  "metadata": {
    "colab": {
      "name": "mdarmanDay7_Assignment.ipynb",
      "provenance": [],
      "collapsed_sections": [],
      "authorship_tag": "ABX9TyOJ688g8jYsljdfEEfdek4Q"
    },
    "kernelspec": {
      "name": "python3",
      "display_name": "Python 3"
    }
  },
  "cells": [
    {
      "cell_type": "markdown",
      "metadata": {
        "id": "dmMdvmbLKN4X",
        "colab_type": "text"
      },
      "source": [
        "# **Question-1**\n",
        "\n",
        "Develop a python program to open a file in read only mode and try writing something in it and handle the subsequent errors using Exception Handling."
      ]
    },
    {
      "cell_type": "code",
      "metadata": {
        "id": "z5QcrADPLMRX",
        "colab_type": "code",
        "colab": {
          "base_uri": "https://localhost:8080/",
          "height": 34
        },
        "outputId": "21db075d-8f36-446a-d221-9e41dc262848"
      },
      "source": [
        "# ** lets create a file and write something in it so that we can use it**\n",
        "\n",
        "file = open('mdarman1.txt','w') \n",
        "file.write(\"Exception Handling on files\")  \n",
        "file.close()\n",
        "file = open('mdarman1.txt', 'r') \n",
        "for each in file: \n",
        "    print(each)"
      ],
      "execution_count": 25,
      "outputs": [
        {
          "output_type": "stream",
          "text": [
            "Exception Handling on files\n"
          ],
          "name": "stdout"
        }
      ]
    },
    {
      "cell_type": "code",
      "metadata": {
        "id": "r5l4DHHBN3xJ",
        "colab_type": "code",
        "colab": {
          "base_uri": "https://localhost:8080/",
          "height": 68
        },
        "outputId": "f8516f39-91a9-4b8e-ccf6-e81fa59c0c50"
      },
      "source": [
        "# ** now use exception handling **\n",
        "\n",
        "try:\n",
        "    file = open('mdarman1.txt','r')\n",
        "    for each in file:\n",
        "        print(each)\n",
        "    file.write(\"Hello ! This is how exceptions are handled\")\n",
        "except Exception as e:\n",
        "    print(\"This Exception Occurred - \",e)\n",
        "finally:\n",
        "    print(\"The finally block will always execute whether any of the try or except executes or not\")\n",
        "    file.close()\n",
        "\n"
      ],
      "execution_count": 26,
      "outputs": [
        {
          "output_type": "stream",
          "text": [
            "Exception Handling on files\n",
            "This Exception Occurred -  not writable\n",
            "The finally block will always execute whether any of the try or except executes or not\n"
          ],
          "name": "stdout"
        }
      ]
    },
    {
      "cell_type": "markdown",
      "metadata": {
        "id": "sWkaWQjtiIda",
        "colab_type": "text"
      },
      "source": [
        "# ** Question-2\n",
        "\n",
        "Write a python function for finding a number is prime or not and perform the unit testing using the pylint and the unit test library\n"
      ]
    },
    {
      "cell_type": "code",
      "metadata": {
        "id": "iH8YWX8Bib1V",
        "colab_type": "code",
        "colab": {
          "base_uri": "https://localhost:8080/",
          "height": 428
        },
        "outputId": "d762963e-32ee-44cf-b4f3-7a3760fc1eec"
      },
      "source": [
        "pip install pylint"
      ],
      "execution_count": 9,
      "outputs": [
        {
          "output_type": "stream",
          "text": [
            "Collecting pylint\n",
            "\u001b[?25l  Downloading https://files.pythonhosted.org/packages/e8/fb/734960c55474c8f74e6ad4c8588fc44073fb9d69e223269d26a3c2435d16/pylint-2.5.3-py3-none-any.whl (324kB)\n",
            "\u001b[K     |████████████████████████████████| 327kB 2.8MB/s \n",
            "\u001b[?25hCollecting isort<5,>=4.2.5\n",
            "\u001b[?25l  Downloading https://files.pythonhosted.org/packages/e5/b0/c121fd1fa3419ea9bfd55c7f9c4fedfec5143208d8c7ad3ce3db6c623c21/isort-4.3.21-py2.py3-none-any.whl (42kB)\n",
            "\u001b[K     |████████████████████████████████| 51kB 6.9MB/s \n",
            "\u001b[?25hCollecting toml>=0.7.1\n",
            "  Downloading https://files.pythonhosted.org/packages/9f/e1/1b40b80f2e1663a6b9f497123c11d7d988c0919abbf3c3f2688e448c5363/toml-0.10.1-py2.py3-none-any.whl\n",
            "Collecting astroid<=2.5,>=2.4.0\n",
            "\u001b[?25l  Downloading https://files.pythonhosted.org/packages/24/a8/5133f51967fb21e46ee50831c3f5dda49e976b7f915408d670b1603d41d6/astroid-2.4.2-py3-none-any.whl (213kB)\n",
            "\u001b[K     |████████████████████████████████| 215kB 8.5MB/s \n",
            "\u001b[?25hCollecting mccabe<0.7,>=0.6\n",
            "  Downloading https://files.pythonhosted.org/packages/87/89/479dc97e18549e21354893e4ee4ef36db1d237534982482c3681ee6e7b57/mccabe-0.6.1-py2.py3-none-any.whl\n",
            "Requirement already satisfied: six~=1.12 in /usr/local/lib/python3.6/dist-packages (from astroid<=2.5,>=2.4.0->pylint) (1.12.0)\n",
            "Collecting typed-ast<1.5,>=1.4.0; implementation_name == \"cpython\" and python_version < \"3.8\"\n",
            "\u001b[?25l  Downloading https://files.pythonhosted.org/packages/90/ed/5459080d95eb87a02fe860d447197be63b6e2b5e9ff73c2b0a85622994f4/typed_ast-1.4.1-cp36-cp36m-manylinux1_x86_64.whl (737kB)\n",
            "\u001b[K     |████████████████████████████████| 747kB 12.6MB/s \n",
            "\u001b[?25hRequirement already satisfied: wrapt~=1.11 in /usr/local/lib/python3.6/dist-packages (from astroid<=2.5,>=2.4.0->pylint) (1.12.1)\n",
            "Collecting lazy-object-proxy==1.4.*\n",
            "\u001b[?25l  Downloading https://files.pythonhosted.org/packages/0b/dd/b1e3407e9e6913cf178e506cd0dee818e58694d9a5cd1984e3f6a8b9a10f/lazy_object_proxy-1.4.3-cp36-cp36m-manylinux1_x86_64.whl (55kB)\n",
            "\u001b[K     |████████████████████████████████| 61kB 7.3MB/s \n",
            "\u001b[?25hInstalling collected packages: isort, toml, typed-ast, lazy-object-proxy, astroid, mccabe, pylint\n",
            "Successfully installed astroid-2.4.2 isort-4.3.21 lazy-object-proxy-1.4.3 mccabe-0.6.1 pylint-2.5.3 toml-0.10.1 typed-ast-1.4.1\n"
          ],
          "name": "stdout"
        }
      ]
    },
    {
      "cell_type": "code",
      "metadata": {
        "id": "nyD8a0J_j_PJ",
        "colab_type": "code",
        "colab": {
          "base_uri": "https://localhost:8080/",
          "height": 34
        },
        "outputId": "79ccdf08-aacc-464d-bb75-ba50af4f006e"
      },
      "source": [
        "%%writefile prime_check.py\n",
        "\"\"\"\n",
        "This is a Python program for checking Prime Numbers\n",
        "\"\"\"\n",
        "def prime_check(number):\n",
        "    '''\n",
        "    This is Python function to check Prime Numbers\n",
        "    '''\n",
        "    if number <= 1:\n",
        "        return\"Not a Prime Number\"\n",
        "    if number <= 3:\n",
        "        return\"Prime Number\"\n",
        "    if number % 2 == 0 or number % 3 == 0:\n",
        "        return\"Not a Prime Number\"\n",
        "    i = 5\n",
        "    while i * i <= number:\n",
        "        if number % i == 0 or number % (i + 2) == 0:\n",
        "            return\"Not a Prime Number\"\n",
        "        i = i + 6\n",
        "    return\"Prime Number\"\n",
        "\n"
      ],
      "execution_count": 21,
      "outputs": [
        {
          "output_type": "stream",
          "text": [
            "Overwriting prime_check.py\n"
          ],
          "name": "stdout"
        }
      ]
    },
    {
      "cell_type": "code",
      "metadata": {
        "id": "b6axhLgZpt8a",
        "colab_type": "code",
        "colab": {
          "base_uri": "https://localhost:8080/",
          "height": 85
        },
        "outputId": "503891f3-b361-43c3-aa8d-f42442ba2521"
      },
      "source": [
        "# ** Running pylint on the prime_check.py**\n",
        "\n",
        "! pylint prime_check.py"
      ],
      "execution_count": 22,
      "outputs": [
        {
          "output_type": "stream",
          "text": [
            "\n",
            "-------------------------------------------------------------------\n",
            "Your code has been rated at 10.00/10 (previous run: 8.46/10, +1.54)\n",
            "\n"
          ],
          "name": "stdout"
        }
      ]
    },
    {
      "cell_type": "code",
      "metadata": {
        "id": "UGU_ixfZsPD6",
        "colab_type": "code",
        "colab": {
          "base_uri": "https://localhost:8080/",
          "height": 34
        },
        "outputId": "fae2ac38-cd50-4607-ce8a-afa8ab7cf304"
      },
      "source": [
        "# **Unit Testing**\n",
        "\n",
        "%%writefile test_prime.py\n",
        "\n",
        "import unittest\n",
        "import prime_check as pc\n",
        "\n",
        "class TestPrime(unittest.TestCase):\n",
        "    def test_non_prime(self):\n",
        "        number = 35\n",
        "        result = pc.prime_check(number)\n",
        "        self.assertEqual(result,\"Not a Prime Number\")\n",
        "    def test_prime(self):\n",
        "        number = 11\n",
        "        result = pc.prime_check(number)\n",
        "        self.assertEqual(result,\"Prime Number\")\n",
        "\n",
        "if __name__ == \"__main__\":\n",
        "    unittest.main()\n"
      ],
      "execution_count": 23,
      "outputs": [
        {
          "output_type": "stream",
          "text": [
            "Overwriting test_prime.py\n"
          ],
          "name": "stdout"
        }
      ]
    },
    {
      "cell_type": "code",
      "metadata": {
        "id": "kmq97H6zGEU_",
        "colab_type": "code",
        "colab": {
          "base_uri": "https://localhost:8080/",
          "height": 102
        },
        "outputId": "e8458969-316a-4ce2-d029-601e7edc2e45"
      },
      "source": [
        "# ** Running unit testing**\n",
        "\n",
        "! python test_prime.py"
      ],
      "execution_count": 24,
      "outputs": [
        {
          "output_type": "stream",
          "text": [
            "..\n",
            "----------------------------------------------------------------------\n",
            "Ran 2 tests in 0.000s\n",
            "\n",
            "OK\n"
          ],
          "name": "stdout"
        }
      ]
    }
  ]
}