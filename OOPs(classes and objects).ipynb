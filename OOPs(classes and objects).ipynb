{
  "nbformat": 4,
  "nbformat_minor": 0,
  "metadata": {
    "colab": {
      "name": "mdarmanDay6_Assignment.ipynb",
      "provenance": [],
      "collapsed_sections": [],
      "authorship_tag": "ABX9TyNgnAt1kDqQS5JkCBI8HZwM"
    },
    "kernelspec": {
      "name": "python3",
      "display_name": "Python 3"
    }
  },
  "cells": [
    {
      "cell_type": "markdown",
      "metadata": {
        "id": "zB3S1L1Mne1l",
        "colab_type": "text"
      },
      "source": [
        "# **Question-1**\n",
        "\n",
        "Bank Account"
      ]
    },
    {
      "cell_type": "code",
      "metadata": {
        "id": "81nHrMYNnohl",
        "colab_type": "code",
        "outputId": "fa6221b4-ec6b-404e-f288-9418180a1941",
        "colab": {
          "base_uri": "https://localhost:8080/",
          "height": 697
        }
      },
      "source": [
        "class bankAccount:\n",
        "    owner='Arman'\n",
        "    balance=0.0\n",
        "    \n",
        "    def deposit(self,bal):\n",
        "      bankAccount.balance+= bal\n",
        "      print(\"Money Deposited in\",self.owner,\"\\n Amount in Account : $\",self.balance)\n",
        "\n",
        "    def withdraw(self,bal):\n",
        "      if self.balance<bal:\n",
        "        print(\"Insufficient Money\")\n",
        "      else:\n",
        "        bankAccount.balance-= bal\n",
        "        print(\"Money Withdrawn from\",self.owner,\"\\n Amount left : $\",self.balance)\n",
        "\n",
        "print(\"*****Welcome to bank*****\\n\")\n",
        "while True:\n",
        "  print(\"\\n1. Deposit \")\n",
        "  print(\"\\n2. Withdraw \\n\")\n",
        "  ch = input(\"Enter your choice:\\n\")\n",
        "  obj=bankAccount()\n",
        "  if ch in ['Deposit','deposit'] or ch=='1':\n",
        "     bal= float(input(\"Enter Amount to be Deposited:\\n\"))\n",
        "     obj.deposit(bal)\n",
        "  elif ch in ['Withdraw','withdraw'] or ch=='2':\n",
        "     bal= float(input(\"Enter Amount to be Withdrawn:\\n\"))\n",
        "     obj.withdraw(bal)\n",
        "  else:\n",
        "     print(\"Invalid Choice\")\n",
        "  cont=input(\"\\nDo you want to continue banking: Y/N\\n\")\n",
        "  if cont.lower()=='n':\n",
        "    break\n",
        "print(\"\\nThanks for banking\",getattr(obj,'owner'))\n",
        "  \n"
      ],
      "execution_count": 0,
      "outputs": [
        {
          "output_type": "stream",
          "text": [
            "*****Welcome to bank*****\n",
            "\n",
            "1. Deposit \n",
            "2. Withdraw \n",
            "\n",
            "Enter your choice:\n",
            "1\n",
            "Enter Amount to be Deposited:\n",
            "500\n",
            "Money Deposited in Arman \n",
            " Amount in Account : $ 500.0\n",
            "\n",
            "Do you want to continue banking: Y/N\n",
            "y\n",
            "1. Deposit \n",
            "2. Withdraw \n",
            "\n",
            "Enter your choice:\n",
            "1\n",
            "Enter Amount to be Deposited:\n",
            "200\n",
            "Money Deposited in Arman \n",
            " Amount in Account : $ 700.0\n",
            "\n",
            "Do you want to continue banking: Y/N\n",
            "y\n",
            "1. Deposit \n",
            "2. Withdraw \n",
            "\n",
            "Enter your choice:\n",
            "2\n",
            "Enter Amount to be Withdrawn:\n",
            "300\n",
            "Money Withdrawn from Arman \n",
            " Amount left : $ 400.0\n",
            "\n",
            "Do you want to continue banking: Y/N\n",
            "n\n",
            "\n",
            "Thanks for banking Arman\n"
          ],
          "name": "stdout"
        }
      ]
    },
    {
      "cell_type": "markdown",
      "metadata": {
        "id": "jjHewrgs8Gut",
        "colab_type": "text"
      },
      "source": [
        "# **Question-2**\n",
        "\n",
        "Cone ka class"
      ]
    },
    {
      "cell_type": "code",
      "metadata": {
        "id": "nJDNKz16AhFT",
        "colab_type": "code",
        "outputId": "60810abf-dea4-46b2-ecd0-5e9945338aa6",
        "colab": {
          "base_uri": "https://localhost:8080/",
          "height": 204
        }
      },
      "source": [
        "import math as m\n",
        "\n",
        "class cone:\n",
        "  radius=0.0\n",
        "  height=0.0\n",
        "  def __init__(self,r,h):\n",
        "    self.radius=r\n",
        "    self.height=h\n",
        "  def volume(self):\n",
        "    print(\"\\nVolume of cone = \",(1/3)*3.14*self.height*(m.pow(self.radius,2)))\n",
        "  def surfaceArea(self):\n",
        "    print(\"\\nSurface Area of cone = \",(3.14*(m.pow(self.radius,2)))+(3.14*self.radius*(m.sqrt(m.pow(self.radius,2) + m.pow(self.height,2)))))\n",
        "\n",
        "print(\"****Cone****\\n\")\n",
        "r=float(input(\"Enter Radius :\\n\"))\n",
        "h=float(input(\"\\nEnter Height :\\n\"))\n",
        "obj1 = cone(r,h) \n",
        "obj1.volume()\n",
        "obj1.surfaceArea()\n"
      ],
      "execution_count": 0,
      "outputs": [
        {
          "output_type": "stream",
          "text": [
            "****Cone****\n",
            "\n",
            "Enter Radius :\n",
            "2\n",
            "\n",
            "Enter Height :\n",
            "2\n",
            "\n",
            "Volume of cone =  8.373333333333333\n",
            "\n",
            "Surface Area of cone =  30.322522343406078\n"
          ],
          "name": "stdout"
        }
      ]
    }
  ]
}