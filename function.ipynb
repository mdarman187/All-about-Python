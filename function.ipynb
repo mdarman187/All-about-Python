{
  "nbformat": 4,
  "nbformat_minor": 0,
  "metadata": {
    "colab": {
      "name": "mdarmanDay4_Assignment",
      "provenance": [],
      "authorship_tag": "ABX9TyPtkEWqrU5a3RI3+WqybirT"
    },
    "kernelspec": {
      "name": "python3",
      "display_name": "Python 3"
    }
  },
  "cells": [
    {
      "cell_type": "markdown",
      "metadata": {
        "id": "8FB7bo4x3ii2",
        "colab_type": "text"
      },
      "source": [
        "# **Question 1**"
      ]
    },
    {
      "cell_type": "code",
      "metadata": {
        "id": "4o-952zU3nF_",
        "colab_type": "code",
        "outputId": "5d91bae4-161f-43c6-89f6-8255e88dcfc2",
        "colab": {
          "base_uri": "https://localhost:8080/",
          "height": 136
        }
      },
      "source": [
        "def checkSubList(List,subList):\n",
        "  if(all(x in List for x in subList)):\n",
        "    print(\"Its a Match\")\n",
        "  else:\n",
        "    print(\"Its Gone\")\n",
        "\n",
        "print(\"--Checking Sublist in List--\\n\")\n",
        "List = [1,5,6,4,1,2,3,5]\n",
        "subList = list(map(int, input('Enter values of sublist: ').split()))\n",
        "print(\"Result loading...\")\n",
        "print(\"List :\",List)\n",
        "print(\"SubList :\",subList)\n",
        "checkSubList(List,subList)"
      ],
      "execution_count": 0,
      "outputs": [
        {
          "output_type": "stream",
          "text": [
            "--Checking Sublist in List--\n",
            "\n",
            "Enter values of sublist: 5 6 4 1\n",
            "Result loading...\n",
            "List : [1, 5, 6, 4, 1, 2, 3, 5]\n",
            "SubList : [5, 6, 4, 1]\n",
            "Its a Match\n"
          ],
          "name": "stdout"
        }
      ]
    },
    {
      "cell_type": "markdown",
      "metadata": {
        "id": "NUpn6v_JzxFc",
        "colab_type": "text"
      },
      "source": [
        "# **Question 2**"
      ]
    },
    {
      "cell_type": "code",
      "metadata": {
        "id": "lH_iOxCWz5Rp",
        "colab_type": "code",
        "outputId": "a971d094-8536-4fa3-b0f0-71c7c2811b97",
        "colab": {
          "base_uri": "https://localhost:8080/",
          "height": 187
        }
      },
      "source": [
        "def calculator(a,b,c):\n",
        "  if(c==1):\n",
        "    return a+b\n",
        "  elif c==2:\n",
        "    if a>=b:\n",
        "      return a-b\n",
        "    else:\n",
        "      return b-a\n",
        "  elif c==3:\n",
        "    return a*b\n",
        "  elif c==4:\n",
        "    return a/b\n",
        "  else:\n",
        "    print(\"invalid choice\")\n",
        "\n",
        "print(\"---Calculator---\\n1.Addition\\n2.Subtraction\\n3.Multiplication\\n4.Division\\n\")\n",
        "n = int(input(\"Enter first number: \"))\n",
        "n1 = int(input(\"Enter second number: \"))\n",
        "choice = int(input(\"Enter Choice [1 for Addition] : \"))\n",
        "print(\"Result :\",calculator(n,n1,choice))\n",
        "\n",
        "\n",
        "\n"
      ],
      "execution_count": 0,
      "outputs": [
        {
          "output_type": "stream",
          "text": [
            "---Calculator---\n",
            "1.Addition\n",
            "2.Subtraction\n",
            "3.Multiplication\n",
            "4.Division\n",
            "\n",
            "Enter first number: 2\n",
            "Enter second number: 3\n",
            "Enter Choice [1 for Addition] : 3\n",
            "Result : 6\n"
          ],
          "name": "stdout"
        }
      ]
    }
  ]
}