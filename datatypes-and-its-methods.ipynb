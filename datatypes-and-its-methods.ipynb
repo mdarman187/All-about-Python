{
  "nbformat": 4,
  "nbformat_minor": 0,
  "metadata": {
    "colab": {
      "name": "mdarman_Day2_Assignment.ipynb",
      "provenance": [],
      "collapsed_sections": [],
      "authorship_tag": "ABX9TyNyxzc2N6nw9q5oeyX81Q7O"
    },
    "kernelspec": {
      "name": "python3",
      "display_name": "Python 3"
    }
  },
  "cells": [
    {
      "cell_type": "markdown",
      "metadata": {
        "id": "nwkush4kG-Kj",
        "colab_type": "text"
      },
      "source": [
        "# **Lists and its methods**\n",
        "\n",
        "Methods used here are:\n",
        "append, insert, pop, sum, len, min , count, index, sorted and del\n"
      ]
    },
    {
      "cell_type": "code",
      "metadata": {
        "id": "S0jv2eg2HF4S",
        "colab_type": "code",
        "colab": {}
      },
      "source": [
        "List = ['Md Arman','batch 4','day 2','Assignment']"
      ],
      "execution_count": 0,
      "outputs": []
    },
    {
      "cell_type": "code",
      "metadata": {
        "id": "Nyab4c2oHSJb",
        "colab_type": "code",
        "colab": {}
      },
      "source": [
        "List1 = [18,23,56,45,78,21]"
      ],
      "execution_count": 0,
      "outputs": []
    },
    {
      "cell_type": "code",
      "metadata": {
        "id": "c7oRnOF8HaCS",
        "colab_type": "code",
        "colab": {}
      },
      "source": [
        "List.append('muhammadarman187@gmail.com')"
      ],
      "execution_count": 0,
      "outputs": []
    },
    {
      "cell_type": "code",
      "metadata": {
        "id": "MPtdaqUMKdWd",
        "colab_type": "code",
        "outputId": "1fec0366-8bf3-4909-a831-71405a3209fc",
        "colab": {
          "base_uri": "https://localhost:8080/",
          "height": 34
        }
      },
      "source": [
        "List"
      ],
      "execution_count": 0,
      "outputs": [
        {
          "output_type": "execute_result",
          "data": {
            "text/plain": [
              "['Md Arman', 'batch 4', 'day 2', 'Assignment', 'muhammadarman187@gmail.com']"
            ]
          },
          "metadata": {
            "tags": []
          },
          "execution_count": 22
        }
      ]
    },
    {
      "cell_type": "code",
      "metadata": {
        "id": "iVbWMmSHHm9p",
        "colab_type": "code",
        "colab": {}
      },
      "source": [
        "List1.insert(0,'Batch 4')"
      ],
      "execution_count": 0,
      "outputs": []
    },
    {
      "cell_type": "code",
      "metadata": {
        "id": "a_rDKzvQKuNY",
        "colab_type": "code",
        "outputId": "2064c28c-56fa-4b50-df9e-72ee816714ff",
        "colab": {
          "base_uri": "https://localhost:8080/",
          "height": 34
        }
      },
      "source": [
        "List1"
      ],
      "execution_count": 0,
      "outputs": [
        {
          "output_type": "execute_result",
          "data": {
            "text/plain": [
              "['Batch 4', 'Batch 4', 18, 23, 56, 45, 78, 21]"
            ]
          },
          "metadata": {
            "tags": []
          },
          "execution_count": 25
        }
      ]
    },
    {
      "cell_type": "code",
      "metadata": {
        "id": "tn_iqbSIKym8",
        "colab_type": "code",
        "outputId": "ba4b1b9a-9e72-42eb-8d6a-ad59a48b1835",
        "colab": {
          "base_uri": "https://localhost:8080/",
          "height": 34
        }
      },
      "source": [
        "print(List1.pop(0))"
      ],
      "execution_count": 0,
      "outputs": [
        {
          "output_type": "stream",
          "text": [
            "Batch 4\n"
          ],
          "name": "stdout"
        }
      ]
    },
    {
      "cell_type": "code",
      "metadata": {
        "id": "mY2XykVpK-5m",
        "colab_type": "code",
        "outputId": "04bff211-212d-485a-e6e3-24e3e9d59be8",
        "colab": {
          "base_uri": "https://localhost:8080/",
          "height": 34
        }
      },
      "source": [
        "print(sum(List1))"
      ],
      "execution_count": 0,
      "outputs": [
        {
          "output_type": "stream",
          "text": [
            "241\n"
          ],
          "name": "stdout"
        }
      ]
    },
    {
      "cell_type": "code",
      "metadata": {
        "id": "2jrxbCPUNSog",
        "colab_type": "code",
        "outputId": "d756f26a-1bf0-4a86-c3df-ef85469493d1",
        "colab": {
          "base_uri": "https://localhost:8080/",
          "height": 34
        }
      },
      "source": [
        "print(len(List))"
      ],
      "execution_count": 0,
      "outputs": [
        {
          "output_type": "stream",
          "text": [
            "5\n"
          ],
          "name": "stdout"
        }
      ]
    },
    {
      "cell_type": "code",
      "metadata": {
        "id": "8bSb2HeCNyuN",
        "colab_type": "code",
        "outputId": "37610e6b-1dca-4841-c169-9407bbf2dff5",
        "colab": {
          "base_uri": "https://localhost:8080/",
          "height": 34
        }
      },
      "source": [
        "print(List1.count(21))"
      ],
      "execution_count": 0,
      "outputs": [
        {
          "output_type": "stream",
          "text": [
            "1\n"
          ],
          "name": "stdout"
        }
      ]
    },
    {
      "cell_type": "code",
      "metadata": {
        "id": "ndJlQT7LN_fP",
        "colab_type": "code",
        "outputId": "c922bf46-5c40-4e05-d66a-923496ecb384",
        "colab": {
          "base_uri": "https://localhost:8080/",
          "height": 34
        }
      },
      "source": [
        "print(List.index('day 2'))"
      ],
      "execution_count": 0,
      "outputs": [
        {
          "output_type": "stream",
          "text": [
            "2\n"
          ],
          "name": "stdout"
        }
      ]
    },
    {
      "cell_type": "code",
      "metadata": {
        "id": "IDaAWziQOKcl",
        "colab_type": "code",
        "outputId": "c21551e6-fc21-461a-8aaa-d478636317f9",
        "colab": {
          "base_uri": "https://localhost:8080/",
          "height": 34
        }
      },
      "source": [
        "print(min(List1))"
      ],
      "execution_count": 0,
      "outputs": [
        {
          "output_type": "stream",
          "text": [
            "18\n"
          ],
          "name": "stdout"
        }
      ]
    },
    {
      "cell_type": "code",
      "metadata": {
        "id": "Xhh13ZjCOQuZ",
        "colab_type": "code",
        "outputId": "4d37e5fd-7024-466c-ab03-efb2285e4d47",
        "colab": {
          "base_uri": "https://localhost:8080/",
          "height": 34
        }
      },
      "source": [
        "sorted(List1)"
      ],
      "execution_count": 0,
      "outputs": [
        {
          "output_type": "execute_result",
          "data": {
            "text/plain": [
              "[18, 21, 23, 45, 56, 78]"
            ]
          },
          "metadata": {
            "tags": []
          },
          "execution_count": 35
        }
      ]
    },
    {
      "cell_type": "code",
      "metadata": {
        "id": "YTYxxRIVOlgv",
        "colab_type": "code",
        "colab": {}
      },
      "source": [
        "del List1"
      ],
      "execution_count": 0,
      "outputs": []
    },
    {
      "cell_type": "code",
      "metadata": {
        "id": "2LWGK_LFOprU",
        "colab_type": "code",
        "outputId": "081c20ef-687d-4a96-9f7d-23c3496e6d0a",
        "colab": {
          "base_uri": "https://localhost:8080/",
          "height": 163
        }
      },
      "source": [
        "List1"
      ],
      "execution_count": 0,
      "outputs": [
        {
          "output_type": "error",
          "ename": "NameError",
          "evalue": "ignored",
          "traceback": [
            "\u001b[0;31m---------------------------------------------------------------------------\u001b[0m",
            "\u001b[0;31mNameError\u001b[0m                                 Traceback (most recent call last)",
            "\u001b[0;32m<ipython-input-37-a745d56c556d>\u001b[0m in \u001b[0;36m<module>\u001b[0;34m()\u001b[0m\n\u001b[0;32m----> 1\u001b[0;31m \u001b[0mList1\u001b[0m\u001b[0;34m\u001b[0m\u001b[0;34m\u001b[0m\u001b[0m\n\u001b[0m",
            "\u001b[0;31mNameError\u001b[0m: name 'List1' is not defined"
          ]
        }
      ]
    },
    {
      "cell_type": "code",
      "metadata": {
        "id": "-2msJFJEPGjy",
        "colab_type": "code",
        "outputId": "1381a6b6-ca77-4961-a786-0afae74f8b6b",
        "colab": {
          "base_uri": "https://localhost:8080/",
          "height": 34
        }
      },
      "source": [
        "List"
      ],
      "execution_count": 0,
      "outputs": [
        {
          "output_type": "execute_result",
          "data": {
            "text/plain": [
              "['Md Arman', 'batch 4', 'day 2', 'Assignment', 'muhammadarman187@gmail.com']"
            ]
          },
          "metadata": {
            "tags": []
          },
          "execution_count": 38
        }
      ]
    },
    {
      "cell_type": "markdown",
      "metadata": {
        "id": "k_HhLkGEPI2l",
        "colab_type": "text"
      },
      "source": [
        "# **Dictionary and its Methods**\n",
        "\n",
        "Methods used here are: keys, items, get, values, pop, copy, clear, update\n",
        "We can also use functions like max and min similarly like we used in lists."
      ]
    },
    {
      "cell_type": "code",
      "metadata": {
        "id": "4m4rbZS-PgJI",
        "colab_type": "code",
        "colab": {}
      },
      "source": [
        "dict = {'Name': 'Arman','Batch': 4, 'Place': 'Patna', 'Assignment':'day2'}"
      ],
      "execution_count": 0,
      "outputs": []
    },
    {
      "cell_type": "code",
      "metadata": {
        "id": "r2IZ4Y5_Wrrn",
        "colab_type": "code",
        "outputId": "1d204f0e-ab15-4688-e530-4b4695fd6da6",
        "colab": {
          "base_uri": "https://localhost:8080/",
          "height": 34
        }
      },
      "source": [
        "print(dict.keys())"
      ],
      "execution_count": 0,
      "outputs": [
        {
          "output_type": "stream",
          "text": [
            "dict_keys(['Name', 'Batch', 'Place', 'Assignment'])\n"
          ],
          "name": "stdout"
        }
      ]
    },
    {
      "cell_type": "code",
      "metadata": {
        "id": "eNhVn35UWxfb",
        "colab_type": "code",
        "outputId": "24bf9d4a-e36c-46cd-f088-0cfc123ca20b",
        "colab": {
          "base_uri": "https://localhost:8080/",
          "height": 34
        }
      },
      "source": [
        "print(dict.items())"
      ],
      "execution_count": 0,
      "outputs": [
        {
          "output_type": "stream",
          "text": [
            "dict_items([('Name', 'Arman'), ('Batch', 4), ('Place', 'Patna'), ('Assignment', 'day2')])\n"
          ],
          "name": "stdout"
        }
      ]
    },
    {
      "cell_type": "code",
      "metadata": {
        "id": "N7HIBK6xW2J5",
        "colab_type": "code",
        "outputId": "1cf714c6-957c-480f-b252-8f4b52b8dbba",
        "colab": {
          "base_uri": "https://localhost:8080/",
          "height": 34
        }
      },
      "source": [
        "print(dict.values())"
      ],
      "execution_count": 0,
      "outputs": [
        {
          "output_type": "stream",
          "text": [
            "dict_values(['Arman', 4, 'Patna', 'day2'])\n"
          ],
          "name": "stdout"
        }
      ]
    },
    {
      "cell_type": "code",
      "metadata": {
        "id": "n_QJ21_LW-JD",
        "colab_type": "code",
        "outputId": "8bb3dee2-a08b-4dbd-c26c-edfa924dbab4",
        "colab": {
          "base_uri": "https://localhost:8080/",
          "height": 34
        }
      },
      "source": [
        "dict.pop('Place')\n",
        "print(dict)"
      ],
      "execution_count": 0,
      "outputs": [
        {
          "output_type": "stream",
          "text": [
            "{'Name': 'Arman', 'Batch': 4, 'Assignment': 'day2'}\n"
          ],
          "name": "stdout"
        }
      ]
    },
    {
      "cell_type": "code",
      "metadata": {
        "id": "dJMBp1KpXMKI",
        "colab_type": "code",
        "outputId": "0d2bcb42-0500-412d-ad7a-421ef41d66ab",
        "colab": {
          "base_uri": "https://localhost:8080/",
          "height": 34
        }
      },
      "source": [
        "dict1 = dict.copy()\n",
        "dict1"
      ],
      "execution_count": 0,
      "outputs": [
        {
          "output_type": "execute_result",
          "data": {
            "text/plain": [
              "{'Assignment': 'day2', 'Batch': 4, 'Name': 'Arman'}"
            ]
          },
          "metadata": {
            "tags": []
          },
          "execution_count": 44
        }
      ]
    },
    {
      "cell_type": "code",
      "metadata": {
        "id": "Sc2jfeoqXWvn",
        "colab_type": "code",
        "outputId": "42eb71db-2037-4a17-ecdf-087235bcb683",
        "colab": {
          "base_uri": "https://localhost:8080/",
          "height": 34
        }
      },
      "source": [
        "dict.clear()\n",
        "dict"
      ],
      "execution_count": 0,
      "outputs": [
        {
          "output_type": "execute_result",
          "data": {
            "text/plain": [
              "{}"
            ]
          },
          "metadata": {
            "tags": []
          },
          "execution_count": 45
        }
      ]
    },
    {
      "cell_type": "code",
      "metadata": {
        "id": "ZxheicDDXcXe",
        "colab_type": "code",
        "outputId": "f1188f0f-7fea-4ea9-e705-eb213f53af88",
        "colab": {
          "base_uri": "https://localhost:8080/",
          "height": 34
        }
      },
      "source": [
        "print(dict1.get('Name'))"
      ],
      "execution_count": 0,
      "outputs": [
        {
          "output_type": "stream",
          "text": [
            "Arman\n"
          ],
          "name": "stdout"
        }
      ]
    },
    {
      "cell_type": "code",
      "metadata": {
        "id": "E36H5tX2XrYL",
        "colab_type": "code",
        "outputId": "3674943f-caf3-4fa0-f012-7858a1a7d7a7",
        "colab": {
          "base_uri": "https://localhost:8080/",
          "height": 34
        }
      },
      "source": [
        "dict1.update({'Place':'Patna'})\n",
        "dict1"
      ],
      "execution_count": 0,
      "outputs": [
        {
          "output_type": "execute_result",
          "data": {
            "text/plain": [
              "{'Assignment': 'day2', 'Batch': 4, 'Name': 'Arman', 'Place': 'Patna'}"
            ]
          },
          "metadata": {
            "tags": []
          },
          "execution_count": 49
        }
      ]
    },
    {
      "cell_type": "markdown",
      "metadata": {
        "id": "C7VSC0CLZBDV",
        "colab_type": "text"
      },
      "source": [
        "# **Sets and its Methods**\n",
        "\n",
        "Methods used here are : add, discard, union, intersection, difference.\n",
        "Various other functions that i have used in lists and dictionary may also be used in a similar way."
      ]
    },
    {
      "cell_type": "code",
      "metadata": {
        "id": "UOY-HNHFZ7ts",
        "colab_type": "code",
        "colab": {}
      },
      "source": [
        "days ={\"Mon\",\"Tues\",\"Wed\",\"Thurs\",\"Fri\",\"Sat\"}\n",
        "number ={1,2,3,4,5}"
      ],
      "execution_count": 0,
      "outputs": []
    },
    {
      "cell_type": "code",
      "metadata": {
        "id": "2uEQxtHdazHl",
        "colab_type": "code",
        "outputId": "1a7007ed-b5da-4449-97c3-954aa72d30f0",
        "colab": {
          "base_uri": "https://localhost:8080/",
          "height": 34
        }
      },
      "source": [
        "days.add(\"Sun\")\n",
        "days"
      ],
      "execution_count": 0,
      "outputs": [
        {
          "output_type": "execute_result",
          "data": {
            "text/plain": [
              "{'Fri', 'Mon', 'Sat', 'Sun', 'Thurs', 'Tues', 'Wed'}"
            ]
          },
          "metadata": {
            "tags": []
          },
          "execution_count": 53
        }
      ]
    },
    {
      "cell_type": "code",
      "metadata": {
        "id": "3FxARFf7bBqe",
        "colab_type": "code",
        "outputId": "ed26e79f-0805-4ff9-de84-338128393a1d",
        "colab": {
          "base_uri": "https://localhost:8080/",
          "height": 34
        }
      },
      "source": [
        "days.discard(\"Sun\")\n",
        "days"
      ],
      "execution_count": 0,
      "outputs": [
        {
          "output_type": "execute_result",
          "data": {
            "text/plain": [
              "{'Fri', 'Mon', 'Sat', 'Thurs', 'Tues', 'Wed'}"
            ]
          },
          "metadata": {
            "tags": []
          },
          "execution_count": 54
        }
      ]
    },
    {
      "cell_type": "code",
      "metadata": {
        "id": "TsrTAxnxbLI7",
        "colab_type": "code",
        "outputId": "3af9ee05-1e99-4428-ca29-eefcdef9d65a",
        "colab": {
          "base_uri": "https://localhost:8080/",
          "height": 34
        }
      },
      "source": [
        "daysNo = days.union(number)\n",
        "daysNo"
      ],
      "execution_count": 0,
      "outputs": [
        {
          "output_type": "execute_result",
          "data": {
            "text/plain": [
              "{1, 2, 3, 4, 5, 'Fri', 'Mon', 'Sat', 'Thurs', 'Tues', 'Wed'}"
            ]
          },
          "metadata": {
            "tags": []
          },
          "execution_count": 55
        }
      ]
    },
    {
      "cell_type": "code",
      "metadata": {
        "id": "JPzD9TJSbYb9",
        "colab_type": "code",
        "outputId": "0d69272b-abc5-44b1-a839-2ccc354ddc73",
        "colab": {
          "base_uri": "https://localhost:8080/",
          "height": 34
        }
      },
      "source": [
        "daysNo1 = days.intersection(number)\n",
        "daysNo1"
      ],
      "execution_count": 0,
      "outputs": [
        {
          "output_type": "execute_result",
          "data": {
            "text/plain": [
              "set()"
            ]
          },
          "metadata": {
            "tags": []
          },
          "execution_count": 56
        }
      ]
    },
    {
      "cell_type": "code",
      "metadata": {
        "id": "ElwkAMh7biZ5",
        "colab_type": "code",
        "outputId": "0c59d942-e4a7-40a9-b260-8d11ad98059a",
        "colab": {
          "base_uri": "https://localhost:8080/",
          "height": 34
        }
      },
      "source": [
        "difSet = daysNo.difference(days)\n",
        "difSet"
      ],
      "execution_count": 0,
      "outputs": [
        {
          "output_type": "execute_result",
          "data": {
            "text/plain": [
              "{1, 2, 3, 4, 5}"
            ]
          },
          "metadata": {
            "tags": []
          },
          "execution_count": 59
        }
      ]
    },
    {
      "cell_type": "markdown",
      "metadata": {
        "id": "C9DQhnCacYqJ",
        "colab_type": "text"
      },
      "source": [
        "# **Tuples and its methods**\n",
        "\n",
        "Since we know that tuples are immutables. Hence it cannot be modified.\n",
        "Methods used here are : len, max, min, del, count.\n",
        "It uses the basic functions that have already been explained above such as count, sum,etc"
      ]
    },
    {
      "cell_type": "code",
      "metadata": {
        "id": "HbLkq7QkciI8",
        "colab_type": "code",
        "colab": {}
      },
      "source": [
        "tup1 = ('phython', 'google', 1991, 2006);\n",
        "tup2 = (1, 2, 3, 4, 5 );\n",
        "tup3 = \"a\", \"b\", \"c\", \"d\";"
      ],
      "execution_count": 0,
      "outputs": []
    },
    {
      "cell_type": "code",
      "metadata": {
        "id": "XyBZ4gwRdAJT",
        "colab_type": "code",
        "colab": {}
      },
      "source": [
        "del tup3"
      ],
      "execution_count": 0,
      "outputs": []
    },
    {
      "cell_type": "code",
      "metadata": {
        "id": "NX_86_C3dGcx",
        "colab_type": "code",
        "outputId": "e4ddfb7d-b41d-4d7f-ccec-012ae76facd1",
        "colab": {
          "base_uri": "https://localhost:8080/",
          "height": 163
        }
      },
      "source": [
        "tup3"
      ],
      "execution_count": 0,
      "outputs": [
        {
          "output_type": "error",
          "ename": "NameError",
          "evalue": "ignored",
          "traceback": [
            "\u001b[0;31m---------------------------------------------------------------------------\u001b[0m",
            "\u001b[0;31mNameError\u001b[0m                                 Traceback (most recent call last)",
            "\u001b[0;32m<ipython-input-62-f484f3ced80d>\u001b[0m in \u001b[0;36m<module>\u001b[0;34m()\u001b[0m\n\u001b[0;32m----> 1\u001b[0;31m \u001b[0mtup3\u001b[0m\u001b[0;34m\u001b[0m\u001b[0;34m\u001b[0m\u001b[0m\n\u001b[0m",
            "\u001b[0;31mNameError\u001b[0m: name 'tup3' is not defined"
          ]
        }
      ]
    },
    {
      "cell_type": "code",
      "metadata": {
        "id": "j5lbSPixdJFo",
        "colab_type": "code",
        "outputId": "fda2ed4c-4e34-426d-b106-88fae60ecadd",
        "colab": {
          "base_uri": "https://localhost:8080/",
          "height": 34
        }
      },
      "source": [
        "print(len(tup1))"
      ],
      "execution_count": 0,
      "outputs": [
        {
          "output_type": "stream",
          "text": [
            "4\n"
          ],
          "name": "stdout"
        }
      ]
    },
    {
      "cell_type": "code",
      "metadata": {
        "id": "oEHe9Py1dp1w",
        "colab_type": "code",
        "outputId": "ce2e4f5a-c1b6-400a-a9fc-e3c3271236f0",
        "colab": {
          "base_uri": "https://localhost:8080/",
          "height": 34
        }
      },
      "source": [
        "print(max(tup2))"
      ],
      "execution_count": 0,
      "outputs": [
        {
          "output_type": "stream",
          "text": [
            "5\n"
          ],
          "name": "stdout"
        }
      ]
    },
    {
      "cell_type": "code",
      "metadata": {
        "id": "qv4MviOrdv8r",
        "colab_type": "code",
        "outputId": "e4ad90a7-45fa-495c-98d6-27fad87d80a0",
        "colab": {
          "base_uri": "https://localhost:8080/",
          "height": 34
        }
      },
      "source": [
        "print(min(tup2))"
      ],
      "execution_count": 0,
      "outputs": [
        {
          "output_type": "stream",
          "text": [
            "1\n"
          ],
          "name": "stdout"
        }
      ]
    },
    {
      "cell_type": "code",
      "metadata": {
        "id": "BVq8Ycr6eb24",
        "colab_type": "code",
        "outputId": "cf1b8d37-0647-4249-a3dd-6cf1899cb327",
        "colab": {
          "base_uri": "https://localhost:8080/",
          "height": 34
        }
      },
      "source": [
        "print(tup1.count('phython'))"
      ],
      "execution_count": 0,
      "outputs": [
        {
          "output_type": "stream",
          "text": [
            "1\n"
          ],
          "name": "stdout"
        }
      ]
    },
    {
      "cell_type": "markdown",
      "metadata": {
        "id": "Deg9NgI2e2e-",
        "colab_type": "text"
      },
      "source": [
        "# **String and its methods**\n",
        "\n",
        "Methods used here are : isupper, islower, upper, lower, Capitalize, isalpha, join, isdigit, istitle, center.\n",
        "There are many more methods to explore."
      ]
    },
    {
      "cell_type": "code",
      "metadata": {
        "id": "ggVZ95gyfqHV",
        "colab_type": "code",
        "colab": {}
      },
      "source": [
        "st1 = \"arman\"\n",
        "str2 = \"python\"\n",
        "str3 = \"this is a sentence\""
      ],
      "execution_count": 0,
      "outputs": []
    },
    {
      "cell_type": "code",
      "metadata": {
        "id": "gssKH8JUf2nU",
        "colab_type": "code",
        "outputId": "0b391fd6-1976-4de9-ae47-f9a5976cc572",
        "colab": {
          "base_uri": "https://localhost:8080/",
          "height": 34
        }
      },
      "source": [
        "print(st1.islower())"
      ],
      "execution_count": 0,
      "outputs": [
        {
          "output_type": "stream",
          "text": [
            "True\n"
          ],
          "name": "stdout"
        }
      ]
    },
    {
      "cell_type": "code",
      "metadata": {
        "id": "lHwxO4MCf9Au",
        "colab_type": "code",
        "outputId": "9d4a2dcc-4fce-4d96-c756-be239602d480",
        "colab": {
          "base_uri": "https://localhost:8080/",
          "height": 34
        }
      },
      "source": [
        "print(st1.isupper())"
      ],
      "execution_count": 0,
      "outputs": [
        {
          "output_type": "stream",
          "text": [
            "False\n"
          ],
          "name": "stdout"
        }
      ]
    },
    {
      "cell_type": "code",
      "metadata": {
        "id": "zmRPT361gIhc",
        "colab_type": "code",
        "outputId": "3b18b9d7-60b8-4c96-d6b2-a7a3c4f49cfb",
        "colab": {
          "base_uri": "https://localhost:8080/",
          "height": 34
        }
      },
      "source": [
        "print(st1.upper())"
      ],
      "execution_count": 0,
      "outputs": [
        {
          "output_type": "stream",
          "text": [
            "ARMAN\n"
          ],
          "name": "stdout"
        }
      ]
    },
    {
      "cell_type": "code",
      "metadata": {
        "id": "zzPwzn66gZEh",
        "colab_type": "code",
        "outputId": "dddc40ab-24d8-43df-911a-5822538f930d",
        "colab": {
          "base_uri": "https://localhost:8080/",
          "height": 34
        }
      },
      "source": [
        "print(st1.isalpha())"
      ],
      "execution_count": 0,
      "outputs": [
        {
          "output_type": "stream",
          "text": [
            "True\n"
          ],
          "name": "stdout"
        }
      ]
    },
    {
      "cell_type": "code",
      "metadata": {
        "id": "NH7cWspLgXwh",
        "colab_type": "code",
        "outputId": "96387196-fec9-43b2-c958-e8ecb836bdcb",
        "colab": {
          "base_uri": "https://localhost:8080/",
          "height": 34
        }
      },
      "source": [
        "print(str2.join(str3))"
      ],
      "execution_count": 0,
      "outputs": [
        {
          "output_type": "stream",
          "text": [
            "tpythonhpythonipythonspython pythonipythonspython pythonapython pythonspythonepythonnpythontpythonepythonnpythoncpythone\n"
          ],
          "name": "stdout"
        }
      ]
    },
    {
      "cell_type": "code",
      "metadata": {
        "id": "K24Vxe0bg8iI",
        "colab_type": "code",
        "outputId": "00531a8c-e8a8-4dfa-9057-7d81dfce22fe",
        "colab": {
          "base_uri": "https://localhost:8080/",
          "height": 34
        }
      },
      "source": [
        "print(st1.isdigit())"
      ],
      "execution_count": 0,
      "outputs": [
        {
          "output_type": "stream",
          "text": [
            "False\n"
          ],
          "name": "stdout"
        }
      ]
    },
    {
      "cell_type": "code",
      "metadata": {
        "id": "nwpjL9YohIOq",
        "colab_type": "code",
        "outputId": "9d1246a1-ab7b-4e2e-d618-4c4b87e1abee",
        "colab": {
          "base_uri": "https://localhost:8080/",
          "height": 34
        }
      },
      "source": [
        "print(st1.capitalize())"
      ],
      "execution_count": 0,
      "outputs": [
        {
          "output_type": "stream",
          "text": [
            "Arman\n"
          ],
          "name": "stdout"
        }
      ]
    },
    {
      "cell_type": "code",
      "metadata": {
        "id": "gwRh3dhHhOL9",
        "colab_type": "code",
        "outputId": "9881377a-d2c5-4aac-aeb4-f023ac657e3d",
        "colab": {
          "base_uri": "https://localhost:8080/",
          "height": 34
        }
      },
      "source": [
        "print(st1.istitle())"
      ],
      "execution_count": 0,
      "outputs": [
        {
          "output_type": "stream",
          "text": [
            "False\n"
          ],
          "name": "stdout"
        }
      ]
    },
    {
      "cell_type": "code",
      "metadata": {
        "id": "bzdcc9OKhm75",
        "colab_type": "code",
        "outputId": "e217e5f7-9d3b-4a4e-95ff-3bdfa7da80ad",
        "colab": {
          "base_uri": "https://localhost:8080/",
          "height": 34
        }
      },
      "source": [
        "print(str3.lower())"
      ],
      "execution_count": 0,
      "outputs": [
        {
          "output_type": "stream",
          "text": [
            "this is a sentence\n"
          ],
          "name": "stdout"
        }
      ]
    },
    {
      "cell_type": "code",
      "metadata": {
        "id": "SRakgE-qiCU5",
        "colab_type": "code",
        "outputId": "2e54cb93-4a9c-42f5-dd20-9173c7375894",
        "colab": {
          "base_uri": "https://localhost:8080/",
          "height": 34
        }
      },
      "source": [
        "print(str3.center(40,'-'))"
      ],
      "execution_count": 0,
      "outputs": [
        {
          "output_type": "stream",
          "text": [
            "-----------this is a sentence-----------\n"
          ],
          "name": "stdout"
        }
      ]
    }
  ]
}