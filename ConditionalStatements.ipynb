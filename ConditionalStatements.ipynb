{
  "nbformat": 4,
  "nbformat_minor": 0,
  "metadata": {
    "colab": {
      "name": "mdarmanDay3_Assignment.ipynb",
      "provenance": [],
      "collapsed_sections": [],
      "authorship_tag": "ABX9TyMT9pkiKN1CuwG0i4Pcm6c5",
      "include_colab_link": true
    },
    "kernelspec": {
      "name": "python3",
      "display_name": "Python 3"
    }
  },
  "cells": [
    {
      "cell_type": "markdown",
      "metadata": {
        "id": "view-in-github",
        "colab_type": "text"
      },
      "source": [
        "<a href=\"https://colab.research.google.com/github/mdarman187/basicPython/blob/master/ConditionalStatements.ipynb\" target=\"_parent\"><img src=\"https://colab.research.google.com/assets/colab-badge.svg\" alt=\"Open In Colab\"/></a>"
      ]
    },
    {
      "cell_type": "markdown",
      "metadata": {
        "id": "XUJ7vCmv8yMj",
        "colab_type": "text"
      },
      "source": [
        "# **Question-1**"
      ]
    },
    {
      "cell_type": "code",
      "metadata": {
        "id": "CRrUle9Q88uI",
        "colab_type": "code",
        "outputId": "3e42662b-791c-48ca-c5b4-628889036103",
        "colab": {
          "base_uri": "https://localhost:8080/",
          "height": 102
        }
      },
      "source": [
        "n= int(input())\n",
        "c=''\n",
        "if n>=90 :\n",
        "  c='A'\n",
        "elif n<90 and n>=80:\n",
        "  c='B'\n",
        "elif n<80 and n>=70 :\n",
        "  c='C'\n",
        "elif n<70 and n>=60 :\n",
        "  c='D'\n",
        "elif n<60 and n>=40 :\n",
        "  c='E'\n",
        "else :\n",
        "  c='F'\n",
        "print(\"\\n|---------|\\n|   \",c,\"   |\\n|---------|\")\n"
      ],
      "execution_count": 0,
      "outputs": [
        {
          "output_type": "stream",
          "text": [
            "12\n",
            "\n",
            "|---------|\n",
            "|    F    |\n",
            "|---------|\n"
          ],
          "name": "stdout"
        }
      ]
    },
    {
      "cell_type": "markdown",
      "metadata": {
        "id": "oIY8o9WQ_XMf",
        "colab_type": "text"
      },
      "source": [
        "# **Question-2**"
      ]
    },
    {
      "cell_type": "code",
      "metadata": {
        "id": "5fWqLt6S_feb",
        "colab_type": "code",
        "outputId": "4ffe413a-8771-41ea-dbc5-7864ffde24b2",
        "colab": {
          "base_uri": "https://localhost:8080/",
          "height": 68
        }
      },
      "source": [
        "import random\n",
        "n = int(input(\"Enter your guess : \"))\n",
        "score = random.randint(1,251)\n",
        "print(\"Team Score : \",score)\n",
        "if n<1 or n>250 :\n",
        "  print(\"Kindly Reduce your expectations for 20-20 cricket\")\n",
        "elif n == score :\n",
        "  print(\"Superb !-- Correct Guess-- You are a True Indian Fan\")\n",
        "elif (n>score and n<=(score+10)) or (n<score and n>=(score-10)):\n",
        "  print(\"Close By, you are a True Indian Fan\")\n",
        "else:\n",
        "  print(\"You are not a true fan\")"
      ],
      "execution_count": 0,
      "outputs": [
        {
          "output_type": "stream",
          "text": [
            "Enter your guess : 134\n",
            "Team Score :  237\n",
            "You are not a true fan\n"
          ],
          "name": "stdout"
        }
      ]
    },
    {
      "cell_type": "markdown",
      "metadata": {
        "id": "enMm7tzrC_qc",
        "colab_type": "text"
      },
      "source": [
        "# **Question-3**"
      ]
    },
    {
      "cell_type": "code",
      "metadata": {
        "id": "k21LjbEuDKwg",
        "colab_type": "code",
        "outputId": "841a06fb-3460-45be-9714-67a8a89b5f18",
        "colab": {
          "base_uri": "https://localhost:8080/",
          "height": 119
        }
      },
      "source": [
        "L = int(input())\n",
        "N = int(input())\n",
        "for i in range(N):\n",
        "  W,H = map(int,input().split())\n",
        "  if W<L or H<L:\n",
        "    print(\"Upload Another\")\n",
        "  elif W==H:\n",
        "    print(\"Accepted\")\n",
        "  else:\n",
        "    print(\"Crop It\")\n"
      ],
      "execution_count": 0,
      "outputs": [
        {
          "output_type": "stream",
          "text": [
            "20\n",
            "2\n",
            "12 43\n",
            "Upload Another\n",
            "21 34\n",
            "Crop It\n"
          ],
          "name": "stdout"
        }
      ]
    },
    {
      "cell_type": "markdown",
      "metadata": {
        "id": "nRvdqo70ICIO",
        "colab_type": "text"
      },
      "source": [
        "# **Question-4**"
      ]
    },
    {
      "cell_type": "code",
      "metadata": {
        "id": "L2EYKiEpIGqZ",
        "colab_type": "code",
        "outputId": "2cc18164-20b2-4a11-97f8-4b211479cb28",
        "colab": {
          "base_uri": "https://localhost:8080/",
          "height": 51
        }
      },
      "source": [
        "n= input()\n",
        "position = [0,0]\n",
        "for i in n:\n",
        "  if i=='L' or i=='l':\n",
        "    position[0]-=1\n",
        "  elif i=='R' or i=='r':\n",
        "    position[0]+=1\n",
        "  elif i=='U' or i=='u':\n",
        "    position[0]+=1\n",
        "  elif i=='D' or i=='d':\n",
        "    position[0]-=1\n",
        "print(position[0],position[1])\n",
        "   "
      ],
      "execution_count": 0,
      "outputs": [
        {
          "output_type": "stream",
          "text": [
            "lldr\n",
            "-2 0\n"
          ],
          "name": "stdout"
        }
      ]
    }
  ]
}